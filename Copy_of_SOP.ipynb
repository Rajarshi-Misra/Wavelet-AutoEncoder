{
  "nbformat": 4,
  "nbformat_minor": 0,
  "metadata": {
    "colab": {
      "provenance": [],
      "include_colab_link": true
    },
    "kernelspec": {
      "name": "python3",
      "display_name": "Python 3"
    },
    "language_info": {
      "name": "python"
    }
  },
  "cells": [
    {
      "cell_type": "markdown",
      "metadata": {
        "id": "view-in-github",
        "colab_type": "text"
      },
      "source": [
        "<a href=\"https://colab.research.google.com/github/Rajarshi-Misra/Wavelet-AutoEncoder/blob/main/Copy_of_SOP.ipynb\" target=\"_parent\"><img src=\"https://colab.research.google.com/assets/colab-badge.svg\" alt=\"Open In Colab\"/></a>"
      ]
    },
    {
      "cell_type": "code",
      "execution_count": 2,
      "metadata": {
        "id": "hARsbhByWhnN"
      },
      "outputs": [],
      "source": [
        "import keras\n",
        "from keras import layers\n",
        "from keras.datasets import mnist\n",
        "import numpy as np\n",
        "import matplotlib.pyplot as plt"
      ]
    },
    {
      "cell_type": "code",
      "source": [
        "import pywt"
      ],
      "metadata": {
        "id": "RIj2kd_ve6Q4"
      },
      "execution_count": 3,
      "outputs": []
    },
    {
      "cell_type": "code",
      "source": [
        "import tensorflow as tf\n",
        "import torch"
      ],
      "metadata": {
        "id": "6JbQk8BkfUe1"
      },
      "execution_count": 4,
      "outputs": []
    },
    {
      "cell_type": "code",
      "source": [
        "(x_train, _), (x_test, _) = mnist.load_data()"
      ],
      "metadata": {
        "colab": {
          "base_uri": "https://localhost:8080/"
        },
        "id": "wlXqUfC8qaaC",
        "outputId": "d8a16a88-b544-4dcd-acf2-9891199862ef"
      },
      "execution_count": 5,
      "outputs": [
        {
          "output_type": "stream",
          "name": "stdout",
          "text": [
            "Downloading data from https://storage.googleapis.com/tensorflow/tf-keras-datasets/mnist.npz\n",
            "11490434/11490434 [==============================] - 0s 0us/step\n"
          ]
        }
      ]
    },
    {
      "cell_type": "code",
      "source": [
        "x_train.shape, x_test.shape"
      ],
      "metadata": {
        "colab": {
          "base_uri": "https://localhost:8080/"
        },
        "id": "n9-MeERMqfHi",
        "outputId": "1ee89755-bb46-478d-df79-8331aecaaf4b"
      },
      "execution_count": 6,
      "outputs": [
        {
          "output_type": "execute_result",
          "data": {
            "text/plain": [
              "((60000, 28, 28), (10000, 28, 28))"
            ]
          },
          "metadata": {},
          "execution_count": 6
        }
      ]
    },
    {
      "cell_type": "code",
      "source": [
        "num_data = 1000\n",
        "frac_train = 0.7\n",
        "frac_test = 0.3\n",
        "x_train = x_train[0:int(frac_train*num_data)]\n",
        "x_test = x_test[0:int(frac_test*num_data)]"
      ],
      "metadata": {
        "id": "7x9S7fIqUWNm"
      },
      "execution_count": 7,
      "outputs": []
    },
    {
      "cell_type": "code",
      "source": [
        "dimension = x_train.shape[1]\n",
        "norm_factor = 255.\n",
        "x_train = x_train.astype('float32')/norm_factor\n",
        "x_test = x_test.astype('float32')/norm_factor\n",
        "x_train = np.reshape(x_train, (len(x_train), dimension, dimension, 1))\n",
        "x_test = np.reshape(x_test, (len(x_test), dimension, dimension, 1))"
      ],
      "metadata": {
        "id": "MifAmReHqu3M"
      },
      "execution_count": 8,
      "outputs": []
    },
    {
      "cell_type": "code",
      "source": [
        "noise_factor = 0.5\n",
        "x_train_noisy = x_train + noise_factor * np.random.normal(loc = 0.0, scale = 1.0, size = x_train.shape) \n",
        "x_test_noisy = x_test + noise_factor * np.random.normal(loc = 0.0, scale = 1.0, size = x_test.shape) \n",
        "\n",
        "x_train_noisy = np.clip(x_train_noisy, 0., 1.)\n",
        "x_test_noisy = np.clip(x_test_noisy, 0., 1.)"
      ],
      "metadata": {
        "id": "ORj_Rz1MrKZs"
      },
      "execution_count": 9,
      "outputs": []
    },
    {
      "cell_type": "code",
      "source": [
        "n = 3\n",
        "for i in range(n):\n",
        "    fig, axes = plt.subplots(1, 2)\n",
        "    fig.set_size_inches(5, 5)\n",
        "    axes[0].set_title('True image')\n",
        "    im0 = axes[0].imshow(x_test[i].reshape(dimension, dimension), cmap = 'Reds')\n",
        "    axes[1].set_title('Noisy image')\n",
        "    im1 = axes[1].imshow(x_test_noisy[i].reshape(dimension, dimension), cmap = 'Reds')"
      ],
      "metadata": {
        "colab": {
          "base_uri": "https://localhost:8080/",
          "height": 539
        },
        "id": "ZAM8K5WRrPc5",
        "outputId": "26da202a-b9f3-450b-acfa-61c7b2729d97"
      },
      "execution_count": 10,
      "outputs": [
        {
          "output_type": "display_data",
          "data": {
            "text/plain": [
              "<Figure size 360x360 with 2 Axes>"
            ],
            "image/png": "[encoded data removed]"
          },
          "metadata": {
            "needs_background": "light"
          }
        },
        {
          "output_type": "display_data",
          "data": {
            "text/plain": [
              "<Figure size 360x360 with 2 Axes>"
            ],
            "image/png": "[encoded data removed]"
          },
          "metadata": {
            "needs_background": "light"
          }
        },
        {
          "output_type": "display_data",
          "data": {
            "text/plain": [
              "<Figure size 360x360 with 2 Axes>"
            ],
            "image/png": "[encoded data removed]"
          },
          "metadata": {
            "needs_background": "light"
          }
        }
      ]
    },
    {
      "cell_type": "code",
      "source": [
        "class DWT_downsampling(tf.keras.layers.Layer):\n",
        "    def __init__(self, **kwargs):\n",
        "        super().__init__(**kwargs)\n",
        "        \n",
        "    def call(self, x):\n",
        "        \"\"\"\n",
        "        The following calculations for DWT are inspired from,\n",
        "        https://github.com/AureliePeng/Keras-WaveletTransform/blob/master/models/DWT.py\n",
        "        \"\"\"\n",
        "        x1 = x[:, 0::2, 0::2, :] #x(2i−1, 2j−1)\n",
        "        x2 = x[:, 1::2, 0::2, :] #x(2i, 2j-1)\n",
        "        x3 = x[:, 0::2, 1::2, :] #x(2i−1, 2j)\n",
        "        x4 = x[:, 1::2, 1::2, :] #x(2i, 2j)   \n",
        "\n",
        "        x_LL = x1 + x2 + x3 + x4\n",
        "        x_LH = -x1 - x3 + x2 + x4\n",
        "        x_HL = -x1 + x3 - x2 + x4\n",
        "        x_HH = x1 - x3 - x2 + x4\n",
        "\n",
        "        return keras.layers.Concatenate(axis=-1)([x_LL, x_LH, x_HL, x_HH])"
      ],
      "metadata": {
        "id": "FcAhdOcgfBSs"
      },
      "execution_count": 26,
      "outputs": []
    },
    {
      "cell_type": "code",
      "source": [
        "import keras.backend as K"
      ],
      "metadata": {
        "id": "mXb_Vf7Ovte2"
      },
      "execution_count": 12,
      "outputs": []
    },
    {
      "cell_type": "code",
      "source": [
        "class IWT_upsampling(tf.keras.layers.Layer):\n",
        "    def __init__(self, **kwargs):\n",
        "        super().__init__(**kwargs)\n",
        "        \n",
        "    def call(self, x):\n",
        "        \"\"\"\n",
        "        The following calculations for DWT are inspired from,\n",
        "        https://github.com/AureliePeng/Keras-WaveletTransform/blob/master/models/DWT.py\n",
        "        \"\"\"\n",
        "        x_LL = x[:, :, :, 0:x.shape[3]//4]\n",
        "        x_LH = x[:, :, :, x.shape[3]//4:x.shape[3]//4*2]\n",
        "        x_HL = x[:, :, :, x.shape[3]//4*2:x.shape[3]//4*3]\n",
        "        x_HH = x[:, :, :, x.shape[3]//4*3:]  \n",
        "\n",
        "        x1 = (x_LL - x_LH - x_HL + x_HH)/4\n",
        "        x2 = (x_LL - x_LH + x_HL - x_HH)/4\n",
        "        x3 = (x_LL + x_LH - x_HL - x_HH)/4\n",
        "        x4 = (x_LL + x_LH + x_HL + x_HH)/4 \n",
        "        y1 = K.stack([x1,x3], axis=2)\n",
        "        y2 = K.stack([x2,x4], axis=2)\n",
        "        shape = K.shape(x)\n",
        "        return K.reshape(K.concatenate([y1,y2], axis=-1), K.stack([shape[0], shape[1]*2, shape[2]*2, shape[3]//4]))"
      ],
      "metadata": {
        "id": "DpW9Ba91qcUP"
      },
      "execution_count": 13,
      "outputs": []
    },
    {
      "cell_type": "code",
      "source": [
        "input_img = keras.Input(shape = (dimension, dimension, 1))\n",
        "print(input_img.shape)\n",
        "x = layers.Conv2D(filters = 32, kernel_size = (3, 3), activation = 'relu', padding = 'same')(input_img)\n",
        "print(x.shape)\n",
        "x = DWT_downsampling()(x)\n",
        "print(x.shape)\n",
        "\n",
        "x = layers.Conv2D(filters = 32, kernel_size = (3, 3), activation = 'relu', padding = 'same')(x)\n",
        "print(x.shape)\n",
        "encoded = DWT_downsampling()(x)\n",
        "print(encoded.shape)"
      ],
      "metadata": {
        "id": "1ViD5vuPrpQ7",
        "colab": {
          "base_uri": "https://localhost:8080/"
        },
        "outputId": "364b00ce-0cb1-476e-89fd-695d1dc81228"
      },
      "execution_count": 27,
      "outputs": [
        {
          "output_type": "stream",
          "name": "stdout",
          "text": [
            "(None, 28, 28, 1)\n",
            "(None, 28, 28, 32)\n",
            "Tensor(\"dwt_downsampling_2/strided_slice:0\", shape=(None, 14, 14, 32), dtype=float32)\n",
            "Tensor(\"dwt_downsampling_2/strided_slice_1:0\", shape=(None, 14, 14, 32), dtype=float32)\n",
            "(None, 14, 14, 128)\n",
            "(None, 14, 14, 32)\n",
            "Tensor(\"dwt_downsampling_3/strided_slice:0\", shape=(None, 7, 7, 32), dtype=float32)\n",
            "Tensor(\"dwt_downsampling_3/strided_slice_1:0\", shape=(None, 7, 7, 32), dtype=float32)\n",
            "(None, 7, 7, 128)\n"
          ]
        }
      ]
    },
    {
      "cell_type": "code",
      "source": [
        "x = layers.Conv2D(filters = 32, kernel_size = (3, 3), activation = 'relu', padding = 'same')(encoded)\n",
        "print(x.shape)\n",
        "x = IWT_upsampling()(x)\n",
        "print(x.shape)\n",
        "x = layers.Conv2D(filters = 32, kernel_size = (3, 3), activation = 'relu', padding = 'same')(x)\n",
        "print(x.shape)\n",
        "x = IWT_upsampling()(x)\n",
        "print(x.shape)\n",
        "decoded = layers.Conv2D(filters = 1, kernel_size = (3, 3), activation = 'sigmoid', padding = 'same')(x)\n",
        "print(decoded.shape)"
      ],
      "metadata": {
        "colab": {
          "base_uri": "https://localhost:8080/"
        },
        "id": "pG5BEbynVegX",
        "outputId": "43ba2890-0603-4316-b150-b3d8acb7c7e9"
      },
      "execution_count": 15,
      "outputs": [
        {
          "output_type": "stream",
          "name": "stdout",
          "text": [
            "(None, 7, 7, 32)\n",
            "(None, 14, 14, 8)\n",
            "(None, 14, 14, 32)\n",
            "(None, 28, 28, 8)\n",
            "(None, 28, 28, 1)\n"
          ]
        }
      ]
    },
    {
      "cell_type": "code",
      "source": [
        "autoencoder = keras.Model(input_img, decoded)"
      ],
      "metadata": {
        "id": "U9eAYGk5V947"
      },
      "execution_count": 16,
      "outputs": []
    },
    {
      "cell_type": "code",
      "source": [
        "autoencoder.summary()"
      ],
      "metadata": {
        "colab": {
          "base_uri": "https://localhost:8080/"
        },
        "id": "bc6LaWf1V__V",
        "outputId": "d6327327-6916-4a55-f1d8-1ccfdc11cc11"
      },
      "execution_count": 17,
      "outputs": [
        {
          "output_type": "stream",
          "name": "stdout",
          "text": [
            "Model: \"model\"\n",
            "_________________________________________________________________\n",
            " Layer (type)                Output Shape              Param #   \n",
            "=================================================================\n",
            " input_1 (InputLayer)        [(None, 28, 28, 1)]       0         \n",
            "                                                                 \n",
            " conv2d (Conv2D)             (None, 28, 28, 32)        320       \n",
            "                                                                 \n",
            " dwt_downsampling (DWT_downs  (None, 14, 14, 128)      0         \n",
            " ampling)                                                        \n",
            "                                                                 \n",
            " conv2d_1 (Conv2D)           (None, 14, 14, 32)        36896     \n",
            "                                                                 \n",
            " dwt_downsampling_1 (DWT_dow  (None, 7, 7, 128)        0         \n",
            " nsampling)                                                      \n",
            "                                                                 \n",
            " conv2d_2 (Conv2D)           (None, 7, 7, 32)          36896     \n",
            "                                                                 \n",
            " iwt_upsampling (IWT_upsampl  (None, 14, 14, 8)        0         \n",
            " ing)                                                            \n",
            "                                                                 \n",
            " conv2d_3 (Conv2D)           (None, 14, 14, 32)        2336      \n",
            "                                                                 \n",
            " iwt_upsampling_1 (IWT_upsam  (None, 28, 28, 8)        0         \n",
            " pling)                                                          \n",
            "                                                                 \n",
            " conv2d_4 (Conv2D)           (None, 28, 28, 1)         73        \n",
            "                                                                 \n",
            "=================================================================\n",
            "Total params: 76,521\n",
            "Trainable params: 76,521\n",
            "Non-trainable params: 0\n",
            "_________________________________________________________________\n"
          ]
        }
      ]
    },
    {
      "cell_type": "code",
      "source": [
        "autoencoder.compile(optimizer='adam', loss='binary_crossentropy')"
      ],
      "metadata": {
        "id": "meg1xNIVWCOn"
      },
      "execution_count": 18,
      "outputs": []
    },
    {
      "cell_type": "code",
      "source": [
        "validation_split = 0.8\n",
        "history = autoencoder.fit(x_train_noisy, x_train, epochs = 40, batch_size = 20, shuffle = True, validation_split = validation_split)"
      ],
      "metadata": {
        "colab": {
          "base_uri": "https://localhost:8080/"
        },
        "id": "kqHM0Qe6WC8N",
        "outputId": "41c8f038-8ceb-45f1-e2a7-0fabd4c3c166"
      },
      "execution_count": 19,
      "outputs": [
        {
          "output_type": "stream",
          "name": "stdout",
          "text": [
            "Epoch 1/40\n",
            "7/7 [==============================] - 8s 378ms/step - loss: 0.6742 - val_loss: 0.6312\n",
            "Epoch 2/40\n",
            "7/7 [==============================] - 2s 304ms/step - loss: 0.5767 - val_loss: 0.5096\n",
            "Epoch 3/40\n",
            "7/7 [==============================] - 2s 283ms/step - loss: 0.5052 - val_loss: 0.4748\n",
            "Epoch 4/40\n",
            "7/7 [==============================] - 2s 293ms/step - loss: 0.4632 - val_loss: 0.4392\n",
            "Epoch 5/40\n",
            "7/7 [==============================] - 2s 298ms/step - loss: 0.4235 - val_loss: 0.3967\n",
            "Epoch 6/40\n",
            "7/7 [==============================] - 1s 198ms/step - loss: 0.3746 - val_loss: 0.3455\n",
            "Epoch 7/40\n",
            "7/7 [==============================] - 2s 295ms/step - loss: 0.3179 - val_loss: 0.2838\n",
            "Epoch 8/40\n",
            "7/7 [==============================] - 2s 294ms/step - loss: 0.2532 - val_loss: 0.2240\n",
            "Epoch 9/40\n",
            "7/7 [==============================] - 1s 229ms/step - loss: 0.1971 - val_loss: 0.1772\n",
            "Epoch 10/40\n",
            "7/7 [==============================] - 2s 357ms/step - loss: 0.1594 - val_loss: 0.1530\n",
            "Epoch 11/40\n",
            "7/7 [==============================] - 1s 194ms/step - loss: 0.1410 - val_loss: 0.1422\n",
            "Epoch 12/40\n",
            "7/7 [==============================] - 2s 294ms/step - loss: 0.1306 - val_loss: 0.1350\n",
            "Epoch 13/40\n",
            "7/7 [==============================] - 1s 200ms/step - loss: 0.1234 - val_loss: 0.1302\n",
            "Epoch 14/40\n",
            "7/7 [==============================] - 2s 297ms/step - loss: 0.1196 - val_loss: 0.1283\n",
            "Epoch 15/40\n",
            "7/7 [==============================] - 1s 197ms/step - loss: 0.1164 - val_loss: 0.1258\n",
            "Epoch 16/40\n",
            "7/7 [==============================] - 1s 199ms/step - loss: 0.1138 - val_loss: 0.1246\n",
            "Epoch 17/40\n",
            "7/7 [==============================] - 2s 294ms/step - loss: 0.1119 - val_loss: 0.1231\n",
            "Epoch 18/40\n",
            "7/7 [==============================] - 2s 359ms/step - loss: 0.1102 - val_loss: 0.1223\n",
            "Epoch 19/40\n",
            "7/7 [==============================] - 1s 199ms/step - loss: 0.1090 - val_loss: 0.1220\n",
            "Epoch 20/40\n",
            "7/7 [==============================] - 2s 297ms/step - loss: 0.1078 - val_loss: 0.1212\n",
            "Epoch 21/40\n",
            "7/7 [==============================] - 1s 198ms/step - loss: 0.1061 - val_loss: 0.1209\n",
            "Epoch 22/40\n",
            "7/7 [==============================] - 1s 194ms/step - loss: 0.1054 - val_loss: 0.1206\n",
            "Epoch 23/40\n",
            "7/7 [==============================] - 2s 293ms/step - loss: 0.1044 - val_loss: 0.1207\n",
            "Epoch 24/40\n",
            "7/7 [==============================] - 2s 299ms/step - loss: 0.1037 - val_loss: 0.1203\n",
            "Epoch 25/40\n",
            "7/7 [==============================] - 2s 346ms/step - loss: 0.1032 - val_loss: 0.1205\n",
            "Epoch 26/40\n",
            "7/7 [==============================] - 2s 305ms/step - loss: 0.1021 - val_loss: 0.1201\n",
            "Epoch 27/40\n",
            "7/7 [==============================] - 2s 297ms/step - loss: 0.1012 - val_loss: 0.1205\n",
            "Epoch 28/40\n",
            "7/7 [==============================] - 1s 193ms/step - loss: 0.1008 - val_loss: 0.1198\n",
            "Epoch 29/40\n",
            "7/7 [==============================] - 2s 296ms/step - loss: 0.0999 - val_loss: 0.1205\n",
            "Epoch 30/40\n",
            "7/7 [==============================] - 2s 295ms/step - loss: 0.0994 - val_loss: 0.1205\n",
            "Epoch 31/40\n",
            "7/7 [==============================] - 1s 194ms/step - loss: 0.0989 - val_loss: 0.1201\n",
            "Epoch 32/40\n",
            "7/7 [==============================] - 2s 325ms/step - loss: 0.0982 - val_loss: 0.1202\n",
            "Epoch 33/40\n",
            "7/7 [==============================] - 2s 346ms/step - loss: 0.0973 - val_loss: 0.1202\n",
            "Epoch 34/40\n",
            "7/7 [==============================] - 2s 295ms/step - loss: 0.0967 - val_loss: 0.1204\n",
            "Epoch 35/40\n",
            "7/7 [==============================] - 1s 194ms/step - loss: 0.0963 - val_loss: 0.1201\n",
            "Epoch 36/40\n",
            "7/7 [==============================] - 2s 293ms/step - loss: 0.0955 - val_loss: 0.1205\n",
            "Epoch 37/40\n",
            "7/7 [==============================] - 2s 294ms/step - loss: 0.0952 - val_loss: 0.1202\n",
            "Epoch 38/40\n",
            "7/7 [==============================] - 1s 199ms/step - loss: 0.0947 - val_loss: 0.1212\n",
            "Epoch 39/40\n",
            "7/7 [==============================] - 2s 274ms/step - loss: 0.0940 - val_loss: 0.1206\n",
            "Epoch 40/40\n",
            "7/7 [==============================] - 2s 295ms/step - loss: 0.0935 - val_loss: 0.1209\n"
          ]
        }
      ]
    },
    {
      "cell_type": "code",
      "source": [
        "history.history.keys()"
      ],
      "metadata": {
        "colab": {
          "base_uri": "https://localhost:8080/"
        },
        "id": "kA0HR13FWIDe",
        "outputId": "51a94f99-f7e8-41dd-d44f-08ec489460fb"
      },
      "execution_count": 20,
      "outputs": [
        {
          "output_type": "execute_result",
          "data": {
            "text/plain": [
              "dict_keys(['loss', 'val_loss'])"
            ]
          },
          "metadata": {},
          "execution_count": 20
        }
      ]
    },
    {
      "cell_type": "code",
      "source": [
        "train_loss = history.history['loss']\n",
        "train_val_loss = history.history['val_loss']\n",
        "epochs = range(1, len(train_loss) + 1)"
      ],
      "metadata": {
        "id": "2AuURFoUWJFu"
      },
      "execution_count": 21,
      "outputs": []
    },
    {
      "cell_type": "code",
      "source": [
        "plt.figure(dpi = 100)\n",
        "plt.plot(epochs, train_loss, label = 'Loss')\n",
        "plt.plot(epochs, train_val_loss, 'o', label = 'Val loss')\n",
        "plt.title('Training and validation metrics')\n",
        "plt.legend()\n",
        "plt.savefig('history.png')"
      ],
      "metadata": {
        "colab": {
          "base_uri": "https://localhost:8080/",
          "height": 385
        },
        "id": "RSHB7EH-WPk-",
        "outputId": "65a59c46-b492-4eb9-ede0-74aaa5a49cbc"
      },
      "execution_count": 22,
      "outputs": [
        {
          "output_type": "display_data",
          "data": {
            "text/plain": [
              "<Figure size 600x400 with 1 Axes>"
            ],
            "image/png": "[encoded data removed]"
          },
          "metadata": {
            "needs_background": "light"
          }
        }
      ]
    },
    {
      "cell_type": "code",
      "source": [
        "all_denoised_images = autoencoder.predict(x_test_noisy)"
      ],
      "metadata": {
        "colab": {
          "base_uri": "https://localhost:8080/"
        },
        "id": "HJYfmlnGWSxI",
        "outputId": "a490f8b6-5b65-4fa5-d6c0-2f2afee100c2"
      },
      "execution_count": 23,
      "outputs": [
        {
          "output_type": "stream",
          "name": "stdout",
          "text": [
            "10/10 [==============================] - 1s 36ms/step\n"
          ]
        }
      ]
    },
    {
      "cell_type": "code",
      "source": [
        "test_loss  = autoencoder.evaluate(x_test_noisy, x_test, batch_size = 20)\n",
        "print(test_loss)"
      ],
      "metadata": {
        "colab": {
          "base_uri": "https://localhost:8080/"
        },
        "id": "7byNmFxCWVsk",
        "outputId": "74c889a2-d1ad-4c2b-a6df-eaa28985f331"
      },
      "execution_count": 24,
      "outputs": [
        {
          "output_type": "stream",
          "name": "stdout",
          "text": [
            "15/15 [==============================] - 0s 26ms/step - loss: 0.1192\n",
            "0.1192203015089035\n"
          ]
        }
      ]
    },
    {
      "cell_type": "code",
      "source": [
        "n = 3\n",
        "for i in range(n):\n",
        "    fig, axes = plt.subplots(1, 3)\n",
        "    fig.set_size_inches(8, 2)\n",
        "    axes[0].set_title('Noisy image')\n",
        "    im0 = axes[0].imshow(x_test_noisy[i].reshape(dimension, dimension), cmap = 'Reds')\n",
        "    axes[1].set_title('Target image')\n",
        "    im1 = axes[1].imshow(x_test[i].reshape(dimension, dimension), cmap = 'Reds')\n",
        "    axes[2].set_title('Denoised image')\n",
        "    im2 = axes[2].imshow(all_denoised_images[i].reshape(dimension, dimension), cmap = 'Reds')\n",
        "    plt.savefig(f'comparison-{i}.png')"
      ],
      "metadata": {
        "colab": {
          "base_uri": "https://localhost:8080/",
          "height": 485
        },
        "id": "nrGArTtkWZkl",
        "outputId": "6c04b5cc-42bb-48c6-d8dc-21d90f16cf1c"
      },
      "execution_count": 25,
      "outputs": [
        {
          "output_type": "display_data",
          "data": {
            "text/plain": [
              "<Figure size 576x144 with 3 Axes>"
            ],
            "image/png": "[encoded data removed]"
          },
          "metadata": {
            "needs_background": "light"
          }
        },
        {
          "output_type": "display_data",
          "data": {
            "text/plain": [
              "<Figure size 576x144 with 3 Axes>"
            ],
            "image/png": "[encoded data removed]"
          },
          "metadata": {
            "needs_background": "light"
          }
        },
        {
          "output_type": "display_data",
          "data": {
            "text/plain": [
              "<Figure size 576x144 with 3 Axes>"
            ],
            "image/png": "[encoded data removed]"
          },
          "metadata": {
            "needs_background": "light"
          }
        }
      ]
    }
  ]
}